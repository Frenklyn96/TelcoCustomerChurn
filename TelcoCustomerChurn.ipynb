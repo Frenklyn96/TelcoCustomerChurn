{
 "cells": [
  {
   "cell_type": "code",
   "execution_count": 12,
   "metadata": {},
   "outputs": [],
   "source": [
    "import sklearn\n",
    "import pandas as pd\n",
    "from sklearn import metrics\n",
    "from sklearn.model_selection import train_test_split\n",
    "from sklearn.ensemble import RandomForestClassifier\n",
    "from sklearn.tree import DecisionTreeClassifier\n",
    "from sklearn.preprocessing import LabelEncoder"
   ]
  },
  {
   "cell_type": "code",
   "execution_count": 6,
   "metadata": {},
   "outputs": [],
   "source": [
    "dataframe = pd.read_csv('WA_Fn-UseC_-Telco-Customer-Churn.train.csv')\n",
    "data2 = dataframe.copy()\n",
    "for c in data2.columns.values:\n",
    "    data2[c] = LabelEncoder().fit_transform(data2[c])\n",
    "\n",
    "data2 = data2.dropna()\n",
    "train, test = train_test_split(data2)\n",
    "pars = ['customerID', 'SeniorCitizen', 'Dependents', 'tenure', 'PhoneService', 'MultipleLines',\n",
    "       'InternetService', 'OnlineSecurity', 'OnlineBackup', 'DeviceProtection',\n",
    "       'TechSupport', 'StreamingTV', 'StreamingMovies', 'Contract',\n",
    "       'PaperlessBilling', 'PaymentMethod', 'MonthlyCharges', 'TotalCharges']\n",
    "X=train[pars]\n",
    "Y=train['Churn']\n",
    "X_test=test[pars]\n",
    "Y_test=test['Churn']"
   ]
  },
  {
   "cell_type": "code",
   "execution_count": 21,
   "metadata": {},
   "outputs": [
    {
     "name": "stdout",
     "output_type": "stream",
     "text": [
      "Accuratezza train: 1.0\n",
      "Accuratezza test: 0.7906316536550745\n"
     ]
    }
   ],
   "source": [
    "'''Dopo aver visionato i valori ottenuti dal decision tree, si è deciso di usufruire del random forest\n",
    "in quanto seleziona randomicamente righe e features per creare diversi decision tree.Ciascuno di essi sceglierà \n",
    "una classe, quella più quotata sarà la soluzione migliore'''\n",
    "model = RandomForestClassifier(random_state=1)\n",
    "model.fit(X, Y)\n",
    "train_predictions = model.predict(X)\n",
    "train_acc=metrics.accuracy_score(Y,train_predictions)\n",
    "print('Accuratezza train: %s'  % train_acc)\n",
    "test_predictions = model.predict(X_test)\n",
    "test_acc=metrics.accuracy_score(Y_test,test_predictions)\n",
    "print('Accuratezza test: %s'  % test_acc)"
   ]
  },
  {
   "cell_type": "code",
   "execution_count": null,
   "metadata": {
    "collapsed": true
   },
   "outputs": [],
   "source": []
  }
 ],
 "metadata": {
  "kernelspec": {
   "display_name": "Python 3",
   "language": "python",
   "name": "python3"
  },
  "language_info": {
   "codemirror_mode": {
    "name": "ipython",
    "version": 3
   },
   "file_extension": ".py",
   "mimetype": "text/x-python",
   "name": "python",
   "nbconvert_exporter": "python",
   "pygments_lexer": "ipython3",
   "version": "3.7.6"
  }
 },
 "nbformat": 4,
 "nbformat_minor": 4
}
